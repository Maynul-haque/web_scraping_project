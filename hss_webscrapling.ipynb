{
  "nbformat": 4,
  "nbformat_minor": 0,
  "metadata": {
    "colab": {
      "name": "hss webscrapling.ipynb",
      "provenance": [],
      "collapsed_sections": [],
      "authorship_tag": "ABX9TyO+tVwKV2cg3cB16Rm7nvEj",
      "include_colab_link": true
    },
    "kernelspec": {
      "name": "python3",
      "display_name": "Python 3"
    },
    "language_info": {
      "name": "python"
    }
  },
  "cells": [
    {
      "cell_type": "markdown",
      "metadata": {
        "id": "view-in-github",
        "colab_type": "text"
      },
      "source": [
        "<a href=\"https://colab.research.google.com/github/Maynul-haque/web_scraping_project/blob/main/hss_webscrapling.ipynb\" target=\"_parent\"><img src=\"https://colab.research.google.com/assets/colab-badge.svg\" alt=\"Open In Colab\"/></a>"
      ]
    },
    {
      "cell_type": "code",
      "source": [
        "pip install anvil-uplink"
      ],
      "metadata": {
        "id": "j8r83MRw8cNM"
      },
      "execution_count": null,
      "outputs": []
    },
    {
      "cell_type": "code",
      "source": [
        "pip install xlrd"
      ],
      "metadata": {
        "id": "j0OnBtus-oB_"
      },
      "execution_count": null,
      "outputs": []
    },
    {
      "cell_type": "code",
      "metadata": {
        "id": "4sTl0nHmiT-H"
      },
      "source": [
        "import requests\n",
        "from bs4 import BeautifulSoup\n",
        "import pandas as pd\n",
        "#from tabulate import tabulate\n",
        "pd.set_option('display.width', 5000)\n",
        "import matplotlib.pyplot as plt\n",
        "import anvil.mpl_util\n",
        "import anvil.server\n",
        "import anvil.tables as tables\n",
        "from anvil.tables import app_tables"
      ],
      "execution_count": null,
      "outputs": []
    },
    {
      "cell_type": "code",
      "source": [
        "anvil.server.connect(\"56QKF5UQYD2UTTLNTYKDW7HY-IZ5NVFY5T7JHEZG2\")"
      ],
      "metadata": {
        "id": "dqGbyUw_8oXA",
        "colab": {
          "base_uri": "https://localhost:8080/"
        },
        "outputId": "6d297dcf-c027-4e0c-f725-dc19b574e5c3"
      },
      "execution_count": null,
      "outputs": [
        {
          "output_type": "stream",
          "name": "stdout",
          "text": [
            "Connecting to wss://anvil.works/uplink\n",
            "Anvil websocket open\n",
            "Connected to \"Default environment\" as SERVER\n"
          ]
        }
      ]
    },
    {
      "cell_type": "code",
      "source": [
        "df = pd.DataFrame()"
      ],
      "metadata": {
        "id": "7iH3mnP16C-k"
      },
      "execution_count": null,
      "outputs": []
    },
    {
      "cell_type": "code",
      "source": [
        "def import_dataframe(dataframe):\n",
        "    for d in dataframe.to_dict(orient=\"records\"):\n",
        "      # d is now a dict of {columnname -> value} for this row\n",
        "      # We use Python's **kwargs syntax to pass the whole dict as\n",
        "      # keyword arguments\n",
        "      app_tables.my_table.add_row(**d)"
      ],
      "metadata": {
        "id": "Gyg36D-L_2l9"
      },
      "execution_count": null,
      "outputs": []
    },
    {
      "cell_type": "code",
      "source": [
        "@anvil.server.callable\n",
        "def show_ranking():\n",
        "  url = 'http://103.247.238.92/webportal/pages/hss_menu_facility.php?facilitytype_id=29&division_id=&district_id='\n",
        "  r = requests.get(url)\n",
        "  soup = BeautifulSoup(r.content, 'lxml')\n",
        "  table_row = soup.find('div', {'class':\"box-body\"}).find_all('tr')\n",
        "\n",
        "\n",
        "  tab_link =[]\n",
        "  for i in table_row:\n",
        "    if (i.find('td', text = 'Cumilla')) !=  None:\n",
        "      tab_link.append(i)\n",
        "\n",
        "  name = [i.find('a').get_text() for i in tab_link ]\n",
        "\n",
        "  all_numbers=[i.find_all(\"td\",{\"style\":\"text-align:center;\"}) for i in tab_link]\n",
        "  rank = []\n",
        "  for i in all_numbers:\n",
        "    j = i[0].get_text()\n",
        "    rank.append(j)\n",
        "  \n",
        "  score = []\n",
        "  for k in all_numbers:\n",
        "    l = k[1].get_text()\n",
        "    score.append(l)\n",
        "\n",
        "  links_upazilla =['http://103.247.238.92/webportal/pages/'+i.find('a').get('href') for i in tab_link]\n",
        "\n",
        "  \n",
        "  df[\"Current Rank\"] = rank\n",
        "  df['Name'] = name\n",
        "  df['Name'] = [df['Name'][i].split()[0] for i in range(0, len(df['Name']))]\n",
        "  df[\"Score (300)\"] = score\n",
        "  df[\"Score (300)\"] = df['Score (300)'].astype(float)\n",
        "  df['Link'] = links_upazilla\n",
        "  plt.figure(figsize=(20, 8))\n",
        "  plt.barh(df['Name'], df['Score (300)'] )\n",
        "  plt.title(\"Ranking\")\n",
        "  # for i, v in enumerate(y):\n",
        "  #   plt.text(v + 1, i + .00, str(v),\n",
        "  #           color = 'blue', fontweight = 'bold')\n",
        "  # plt.rc('ytick', labelsize =15)\n",
        "\n",
        "  \n",
        "\n",
        "  return anvil.mpl_util.plot_image()"
      ],
      "metadata": {
        "id": "3zOxMDZE5SeJ"
      },
      "execution_count": null,
      "outputs": []
    },
    {
      "cell_type": "code",
      "source": [
        "show_ranking()"
      ],
      "metadata": {
        "id": "waQOur80l15U"
      },
      "execution_count": null,
      "outputs": []
    },
    {
      "cell_type": "markdown",
      "metadata": {
        "id": "TypZJLvIbbvn"
      },
      "source": [
        " Select number of table \n",
        "------------------------------- \n",
        "0. Service Delivery- 6.4 , Per indicator mark- 1.28\n",
        "1. Health Workforce- 6.4 , Per indicator mark- 1.6\n",
        "2. Health Information System- 6.4 , Per indicator mark- 1.6\n",
        "3. Access to Essential Medicines/ Equipment, logistics/ Utilities/ Infrastructure- 6.37 , Per indicator mark- 0.91\n",
        "4 Leadership/ Governance/ Management- 6.43 , Indicator mark - 3.215\n",
        "5. Access- 12 ,  Indicator mark - 6\n",
        "6. Quality- 12 ,  Indicator mark - 3\n",
        "7. Coverage -12 ,  Indicator mark- 4\n",
        "8. Safety -12 , Indicator mark - 12\n",
        "9. Onsite Monitoring -20 , Indicator mark - 20 "
      ]
    },
    {
      "cell_type": "code",
      "source": [
        "dict = {\n",
        "    'Service Delivery':0,\n",
        "'Health Workforce':1,\n",
        "'Health Information System':2,\n",
        "'Access to Essential Medicines/ Equipment, logistics/ Utilities/ Infrastructure':3,\n",
        "'Access':4,\n",
        "'Quality':5,\n",
        "'Coverage':6,\n",
        "'Safety':7,\n",
        "'Onsite Monitoring':8\n",
        "}"
      ],
      "metadata": {
        "id": "actbLliagz7D"
      },
      "execution_count": null,
      "outputs": []
    },
    {
      "cell_type": "code",
      "source": [
        "@anvil.server.callable\n",
        "def get_data(upazilla,table_no):\n",
        "  tab = pd.read_html(df['Link'][df.index[df['Name'] == upazilla].tolist()[0]])[dict[table_no]].drop(['Definition','Dataset','Period','Numerator','Denominator','Score Calculation','Trend'], axis = 1)\n",
        "  # return tab\n",
        "  plt.figure(figsize=(20, 4))\n",
        "  plt.title(\"table\")\n",
        "  plt.barh(tab['Indicators'], tab['Score'] )\n",
        "\n",
        "  return anvil.mpl_util.plot_image()"
      ],
      "metadata": {
        "id": "f88Vl-GhrGVL"
      },
      "execution_count": null,
      "outputs": []
    },
    {
      "cell_type": "code",
      "source": [
        "get_data('Laksham','Safety')"
      ],
      "metadata": {
        "colab": {
          "base_uri": "https://localhost:8080/",
          "height": 281
        },
        "id": "dimaK8n4Okel",
        "outputId": "d13b15e8-c8ff-44d2-f52a-fabda7004c50"
      },
      "execution_count": null,
      "outputs": [
        {
          "output_type": "display_data",
          "data": {
            "text/plain": [
              "<Figure size 1440x288 with 1 Axes>"
            ],
            "image/png": "[encoded data removed]"
          },
          "metadata": {
            "needs_background": "light"
          }
        }
      ]
    },
    {
      "cell_type": "code",
      "source": [
        "anvil.server.wait_forever()"
      ],
      "metadata": {
        "id": "yfgqDzj89TXk"
      },
      "execution_count": null,
      "outputs": []
    },
    {
      "cell_type": "code",
      "metadata": {
        "id": "x3Z3NiA6bEIR"
      },
      "source": [
        "def get_table(upazilla,table):\n",
        "  d = pd.read_html(df['Link'][upazilla])\n",
        "  print(f\"\\nupazilla:{df['Name'][upazilla]}\\n---------------------------\\n\")\n",
        "  #d_table = d[table].loc[:, df.columns!='Definition']\n",
        "  print(tabulate(d[table].drop(['Definition','Trend','Score Calculation'], axis=1),headers=\"keys\",tablefmt=\"orgtbl\"))"
      ],
      "execution_count": null,
      "outputs": []
    },
    {
      "cell_type": "code",
      "metadata": {
        "id": "r3f3Y2vEFJVK"
      },
      "source": [
        "# Get specific table for all upazilla\n",
        "for i in range(0,15):\n",
        "  get_table(i,1)"
      ],
      "execution_count": null,
      "outputs": []
    },
    {
      "cell_type": "code",
      "source": [
        "tab = pd.read_html(df['Link'][int(df[df['Name']=='Muradnagar'].index.values)])[1]\n",
        "type(tab)"
      ],
      "metadata": {
        "colab": {
          "base_uri": "https://localhost:8080/"
        },
        "id": "CmittODsd30M",
        "outputId": "01577581-0a7f-4cfc-8324-6dbb865b4ddb"
      },
      "execution_count": null,
      "outputs": [
        {
          "output_type": "execute_result",
          "data": {
            "text/plain": [
              "pandas.core.frame.DataFrame"
            ]
          },
          "metadata": {},
          "execution_count": 93
        }
      ]
    },
    {
      "cell_type": "code",
      "source": [
        "df1 = pd.read_html(df['Link'][0])[1].drop(['Definition','Dataset','Period','Numerator','Denominator','Score Calculation','Trend'], axis = 1)\n",
        "df1['Upazila'] = df['Name'][0]\n",
        "for i in range(1,len(df['Link'])):\n",
        "  current_df = pd.read_html(df['Link'][i])[1].drop(['Definition','Dataset','Period','Numerator','Denominator','Score Calculation','Trend'], axis = 1)\n",
        "  current_df['Upazila'] = df['Name'][i]\n",
        "  df1.append(current_df)"
      ],
      "metadata": {
        "id": "BeaIEhJqgWNv"
      },
      "execution_count": null,
      "outputs": []
    },
    {
      "cell_type": "code",
      "source": [
        "df1 = pd.read_html(df['Link'][0])[1].drop(['Definition','Dataset','Period','Numerator','Denominator','Score Calculation','Trend'], axis = 1)\n",
        "df1['Upazila'] = df['Name'][0]\n",
        "df1"
      ],
      "metadata": {
        "colab": {
          "base_uri": "https://localhost:8080/",
          "height": 206
        },
        "id": "C9gBSGq-l7zX",
        "outputId": "23c57fbc-55ac-42ec-aaaf-4820de910665"
      },
      "execution_count": null,
      "outputs": [
        {
          "output_type": "execute_result",
          "data": {
            "text/plain": [
              "                                          Indicators  Score    Upazila\n",
              "0  Functionality of the biometric attendance mach...  1.600  Daudkandi\n",
              "1                  Presence of average no. of staffs  1.017  Daudkandi\n",
              "2                Completeness of HRM data (Facility)  1.600  Daudkandi\n",
              "3                Completeness of HRM data (Provider)  1.592  Daudkandi\n",
              "4                                              Total  5.810  Daudkandi"
            ],
            "text/html": [
              "\n",
              "  <div id=\"df-dce6107b-e330-42e9-a887-86127bfc9e40\">\n",
              "    <div class=\"colab-df-container\">\n",
              "      <div>\n",
              "<style scoped>\n",
              "    .dataframe tbody tr th:only-of-type {\n",
              "        vertical-align: middle;\n",
              "    }\n",
              "\n",
              "    .dataframe tbody tr th {\n",
              "        vertical-align: top;\n",
              "    }\n",
              "\n",
              "    .dataframe thead th {\n",
              "        text-align: right;\n",
              "    }\n",
              "</style>\n",
              "<table border=\"1\" class=\"dataframe\">\n",
              "  <thead>\n",
              "    <tr style=\"text-align: right;\">\n",
              "      <th></th>\n",
              "      <th>Indicators</th>\n",
              "      <th>Score</th>\n",
              "      <th>Upazila</th>\n",
              "    </tr>\n",
              "  </thead>\n",
              "  <tbody>\n",
              "    <tr>\n",
              "      <th>0</th>\n",
              "      <td>Functionality of the biometric attendance mach...</td>\n",
              "      <td>1.600</td>\n",
              "      <td>Daudkandi</td>\n",
              "    </tr>\n",
              "    <tr>\n",
              "      <th>1</th>\n",
              "      <td>Presence of average no. of staffs</td>\n",
              "      <td>1.017</td>\n",
              "      <td>Daudkandi</td>\n",
              "    </tr>\n",
              "    <tr>\n",
              "      <th>2</th>\n",
              "      <td>Completeness of HRM data (Facility)</td>\n",
              "      <td>1.600</td>\n",
              "      <td>Daudkandi</td>\n",
              "    </tr>\n",
              "    <tr>\n",
              "      <th>3</th>\n",
              "      <td>Completeness of HRM data (Provider)</td>\n",
              "      <td>1.592</td>\n",
              "      <td>Daudkandi</td>\n",
              "    </tr>\n",
              "    <tr>\n",
              "      <th>4</th>\n",
              "      <td>Total</td>\n",
              "      <td>5.810</td>\n",
              "      <td>Daudkandi</td>\n",
              "    </tr>\n",
              "  </tbody>\n",
              "</table>\n",
              "</div>\n",
              "      <button class=\"colab-df-convert\" onclick=\"convertToInteractive('df-dce6107b-e330-42e9-a887-86127bfc9e40')\"\n",
              "              title=\"Convert this dataframe to an interactive table.\"\n",
              "              style=\"display:none;\">\n",
              "        \n",
              "  <svg xmlns=\"http://www.w3.org/2000/svg\" height=\"24px\"viewBox=\"0 0 24 24\"\n",
              "       width=\"24px\">\n",
              "    <path d=\"M0 0h24v24H0V0z\" fill=\"none\"/>\n",
              "    <path d=\"M18.56 5.44l.94 2.06.94-2.06 2.06-.94-2.06-.94-.94-2.06-.94 2.06-2.06.94zm-11 1L8.5 8.5l.94-2.06 2.06-.94-2.06-.94L8.5 2.5l-.94 2.06-2.06.94zm10 10l.94 2.06.94-2.06 2.06-.94-2.06-.94-.94-2.06-.94 2.06-2.06.94z\"/><path d=\"M17.41 7.96l-1.37-1.37c-.4-.4-.92-.59-1.43-.59-.52 0-1.04.2-1.43.59L10.3 9.45l-7.72 7.72c-.78.78-.78 2.05 0 2.83L4 21.41c.39.39.9.59 1.41.59.51 0 1.02-.2 1.41-.59l7.78-7.78 2.81-2.81c.8-.78.8-2.07 0-2.86zM5.41 20L4 18.59l7.72-7.72 1.47 1.35L5.41 20z\"/>\n",
              "  </svg>\n",
              "      </button>\n",
              "      \n",
              "  <style>\n",
              "    .colab-df-container {\n",
              "      display:flex;\n",
              "      flex-wrap:wrap;\n",
              "      gap: 12px;\n",
              "    }\n",
              "\n",
              "    .colab-df-convert {\n",
              "      background-color: #E8F0FE;\n",
              "      border: none;\n",
              "      border-radius: 50%;\n",
              "      cursor: pointer;\n",
              "      display: none;\n",
              "      fill: #1967D2;\n",
              "      height: 32px;\n",
              "      padding: 0 0 0 0;\n",
              "      width: 32px;\n",
              "    }\n",
              "\n",
              "    .colab-df-convert:hover {\n",
              "      background-color: #E2EBFA;\n",
              "      box-shadow: 0px 1px 2px rgba(60, 64, 67, 0.3), 0px 1px 3px 1px rgba(60, 64, 67, 0.15);\n",
              "      fill: #174EA6;\n",
              "    }\n",
              "\n",
              "    [theme=dark] .colab-df-convert {\n",
              "      background-color: #3B4455;\n",
              "      fill: #D2E3FC;\n",
              "    }\n",
              "\n",
              "    [theme=dark] .colab-df-convert:hover {\n",
              "      background-color: #434B5C;\n",
              "      box-shadow: 0px 1px 3px 1px rgba(0, 0, 0, 0.15);\n",
              "      filter: drop-shadow(0px 1px 2px rgba(0, 0, 0, 0.3));\n",
              "      fill: #FFFFFF;\n",
              "    }\n",
              "  </style>\n",
              "\n",
              "      <script>\n",
              "        const buttonEl =\n",
              "          document.querySelector('#df-dce6107b-e330-42e9-a887-86127bfc9e40 button.colab-df-convert');\n",
              "        buttonEl.style.display =\n",
              "          google.colab.kernel.accessAllowed ? 'block' : 'none';\n",
              "\n",
              "        async function convertToInteractive(key) {\n",
              "          const element = document.querySelector('#df-dce6107b-e330-42e9-a887-86127bfc9e40');\n",
              "          const dataTable =\n",
              "            await google.colab.kernel.invokeFunction('convertToInteractive',\n",
              "                                                     [key], {});\n",
              "          if (!dataTable) return;\n",
              "\n",
              "          const docLinkHtml = 'Like what you see? Visit the ' +\n",
              "            '<a target=\"_blank\" href=https://colab.research.google.com/notebooks/data_table.ipynb>data table notebook</a>'\n",
              "            + ' to learn more about interactive tables.';\n",
              "          element.innerHTML = '';\n",
              "          dataTable['output_type'] = 'display_data';\n",
              "          await google.colab.output.renderOutput(dataTable, element);\n",
              "          const docLink = document.createElement('div');\n",
              "          docLink.innerHTML = docLinkHtml;\n",
              "          element.appendChild(docLink);\n",
              "        }\n",
              "      </script>\n",
              "    </div>\n",
              "  </div>\n",
              "  "
            ]
          },
          "metadata": {},
          "execution_count": 124
        }
      ]
    },
    {
      "cell_type": "code",
      "source": [
        "df.head(20)"
      ],
      "metadata": {
        "colab": {
          "base_uri": "https://localhost:8080/",
          "height": 520
        },
        "id": "4aZlP3oraQMC",
        "outputId": "9618d8a2-a232-4c83-deb7-16938f7f11b3"
      },
      "execution_count": null,
      "outputs": [
        {
          "output_type": "execute_result",
          "data": {
            "text/plain": [
              "   Current Rank         Name  Score (300)                                               Link\n",
              "0            10    Daudkandi        79.48  http://103.247.238.92/webportal/pages/hss_scor...\n",
              "1            39   Chaddagram        78.12  http://103.247.238.92/webportal/pages/hss_scor...\n",
              "2           143      Laksham        73.67  http://103.247.238.92/webportal/pages/hss_scor...\n",
              "3           162       Barura        72.85  http://103.247.238.92/webportal/pages/hss_scor...\n",
              "4           169     Debidwar        72.46  http://103.247.238.92/webportal/pages/hss_scor...\n",
              "5           179    Burichong        71.85  http://103.247.238.92/webportal/pages/hss_scor...\n",
              "6           242       Meghna        68.81  http://103.247.238.92/webportal/pages/hss_scor...\n",
              "7           285   Muradnagar        65.51  http://103.247.238.92/webportal/pages/hss_scor...\n",
              "8           300    Nangolkot        63.76  http://103.247.238.92/webportal/pages/hss_scor...\n",
              "9           303        Titas        63.22  http://103.247.238.92/webportal/pages/hss_scor...\n",
              "10          322        Homna        59.07  http://103.247.238.92/webportal/pages/hss_scor...\n",
              "11          324  Brahmanpara        59.03  http://103.247.238.92/webportal/pages/hss_scor...\n",
              "12          335  Monoharganj        57.43  http://103.247.238.92/webportal/pages/hss_scor...\n",
              "13          372      Comilla        52.54  http://103.247.238.92/webportal/pages/hss_scor...\n",
              "14          380     Chandina        50.90  http://103.247.238.92/webportal/pages/hss_scor..."
            ],
            "text/html": [
              "\n",
              "  <div id=\"df-3865e82f-7190-4139-964e-9b5114ea5629\">\n",
              "    <div class=\"colab-df-container\">\n",
              "      <div>\n",
              "<style scoped>\n",
              "    .dataframe tbody tr th:only-of-type {\n",
              "        vertical-align: middle;\n",
              "    }\n",
              "\n",
              "    .dataframe tbody tr th {\n",
              "        vertical-align: top;\n",
              "    }\n",
              "\n",
              "    .dataframe thead th {\n",
              "        text-align: right;\n",
              "    }\n",
              "</style>\n",
              "<table border=\"1\" class=\"dataframe\">\n",
              "  <thead>\n",
              "    <tr style=\"text-align: right;\">\n",
              "      <th></th>\n",
              "      <th>Current Rank</th>\n",
              "      <th>Name</th>\n",
              "      <th>Score (300)</th>\n",
              "      <th>Link</th>\n",
              "    </tr>\n",
              "  </thead>\n",
              "  <tbody>\n",
              "    <tr>\n",
              "      <th>0</th>\n",
              "      <td>10</td>\n",
              "      <td>Daudkandi</td>\n",
              "      <td>79.48</td>\n",
              "      <td>http://103.247.238.92/webportal/pages/hss_scor...</td>\n",
              "    </tr>\n",
              "    <tr>\n",
              "      <th>1</th>\n",
              "      <td>39</td>\n",
              "      <td>Chaddagram</td>\n",
              "      <td>78.12</td>\n",
              "      <td>http://103.247.238.92/webportal/pages/hss_scor...</td>\n",
              "    </tr>\n",
              "    <tr>\n",
              "      <th>2</th>\n",
              "      <td>143</td>\n",
              "      <td>Laksham</td>\n",
              "      <td>73.67</td>\n",
              "      <td>http://103.247.238.92/webportal/pages/hss_scor...</td>\n",
              "    </tr>\n",
              "    <tr>\n",
              "      <th>3</th>\n",
              "      <td>162</td>\n",
              "      <td>Barura</td>\n",
              "      <td>72.85</td>\n",
              "      <td>http://103.247.238.92/webportal/pages/hss_scor...</td>\n",
              "    </tr>\n",
              "    <tr>\n",
              "      <th>4</th>\n",
              "      <td>169</td>\n",
              "      <td>Debidwar</td>\n",
              "      <td>72.46</td>\n",
              "      <td>http://103.247.238.92/webportal/pages/hss_scor...</td>\n",
              "    </tr>\n",
              "    <tr>\n",
              "      <th>5</th>\n",
              "      <td>179</td>\n",
              "      <td>Burichong</td>\n",
              "      <td>71.85</td>\n",
              "      <td>http://103.247.238.92/webportal/pages/hss_scor...</td>\n",
              "    </tr>\n",
              "    <tr>\n",
              "      <th>6</th>\n",
              "      <td>242</td>\n",
              "      <td>Meghna</td>\n",
              "      <td>68.81</td>\n",
              "      <td>http://103.247.238.92/webportal/pages/hss_scor...</td>\n",
              "    </tr>\n",
              "    <tr>\n",
              "      <th>7</th>\n",
              "      <td>285</td>\n",
              "      <td>Muradnagar</td>\n",
              "      <td>65.51</td>\n",
              "      <td>http://103.247.238.92/webportal/pages/hss_scor...</td>\n",
              "    </tr>\n",
              "    <tr>\n",
              "      <th>8</th>\n",
              "      <td>300</td>\n",
              "      <td>Nangolkot</td>\n",
              "      <td>63.76</td>\n",
              "      <td>http://103.247.238.92/webportal/pages/hss_scor...</td>\n",
              "    </tr>\n",
              "    <tr>\n",
              "      <th>9</th>\n",
              "      <td>303</td>\n",
              "      <td>Titas</td>\n",
              "      <td>63.22</td>\n",
              "      <td>http://103.247.238.92/webportal/pages/hss_scor...</td>\n",
              "    </tr>\n",
              "    <tr>\n",
              "      <th>10</th>\n",
              "      <td>322</td>\n",
              "      <td>Homna</td>\n",
              "      <td>59.07</td>\n",
              "      <td>http://103.247.238.92/webportal/pages/hss_scor...</td>\n",
              "    </tr>\n",
              "    <tr>\n",
              "      <th>11</th>\n",
              "      <td>324</td>\n",
              "      <td>Brahmanpara</td>\n",
              "      <td>59.03</td>\n",
              "      <td>http://103.247.238.92/webportal/pages/hss_scor...</td>\n",
              "    </tr>\n",
              "    <tr>\n",
              "      <th>12</th>\n",
              "      <td>335</td>\n",
              "      <td>Monoharganj</td>\n",
              "      <td>57.43</td>\n",
              "      <td>http://103.247.238.92/webportal/pages/hss_scor...</td>\n",
              "    </tr>\n",
              "    <tr>\n",
              "      <th>13</th>\n",
              "      <td>372</td>\n",
              "      <td>Comilla</td>\n",
              "      <td>52.54</td>\n",
              "      <td>http://103.247.238.92/webportal/pages/hss_scor...</td>\n",
              "    </tr>\n",
              "    <tr>\n",
              "      <th>14</th>\n",
              "      <td>380</td>\n",
              "      <td>Chandina</td>\n",
              "      <td>50.90</td>\n",
              "      <td>http://103.247.238.92/webportal/pages/hss_scor...</td>\n",
              "    </tr>\n",
              "  </tbody>\n",
              "</table>\n",
              "</div>\n",
              "      <button class=\"colab-df-convert\" onclick=\"convertToInteractive('df-3865e82f-7190-4139-964e-9b5114ea5629')\"\n",
              "              title=\"Convert this dataframe to an interactive table.\"\n",
              "              style=\"display:none;\">\n",
              "        \n",
              "  <svg xmlns=\"http://www.w3.org/2000/svg\" height=\"24px\"viewBox=\"0 0 24 24\"\n",
              "       width=\"24px\">\n",
              "    <path d=\"M0 0h24v24H0V0z\" fill=\"none\"/>\n",
              "    <path d=\"M18.56 5.44l.94 2.06.94-2.06 2.06-.94-2.06-.94-.94-2.06-.94 2.06-2.06.94zm-11 1L8.5 8.5l.94-2.06 2.06-.94-2.06-.94L8.5 2.5l-.94 2.06-2.06.94zm10 10l.94 2.06.94-2.06 2.06-.94-2.06-.94-.94-2.06-.94 2.06-2.06.94z\"/><path d=\"M17.41 7.96l-1.37-1.37c-.4-.4-.92-.59-1.43-.59-.52 0-1.04.2-1.43.59L10.3 9.45l-7.72 7.72c-.78.78-.78 2.05 0 2.83L4 21.41c.39.39.9.59 1.41.59.51 0 1.02-.2 1.41-.59l7.78-7.78 2.81-2.81c.8-.78.8-2.07 0-2.86zM5.41 20L4 18.59l7.72-7.72 1.47 1.35L5.41 20z\"/>\n",
              "  </svg>\n",
              "      </button>\n",
              "      \n",
              "  <style>\n",
              "    .colab-df-container {\n",
              "      display:flex;\n",
              "      flex-wrap:wrap;\n",
              "      gap: 12px;\n",
              "    }\n",
              "\n",
              "    .colab-df-convert {\n",
              "      background-color: #E8F0FE;\n",
              "      border: none;\n",
              "      border-radius: 50%;\n",
              "      cursor: pointer;\n",
              "      display: none;\n",
              "      fill: #1967D2;\n",
              "      height: 32px;\n",
              "      padding: 0 0 0 0;\n",
              "      width: 32px;\n",
              "    }\n",
              "\n",
              "    .colab-df-convert:hover {\n",
              "      background-color: #E2EBFA;\n",
              "      box-shadow: 0px 1px 2px rgba(60, 64, 67, 0.3), 0px 1px 3px 1px rgba(60, 64, 67, 0.15);\n",
              "      fill: #174EA6;\n",
              "    }\n",
              "\n",
              "    [theme=dark] .colab-df-convert {\n",
              "      background-color: #3B4455;\n",
              "      fill: #D2E3FC;\n",
              "    }\n",
              "\n",
              "    [theme=dark] .colab-df-convert:hover {\n",
              "      background-color: #434B5C;\n",
              "      box-shadow: 0px 1px 3px 1px rgba(0, 0, 0, 0.15);\n",
              "      filter: drop-shadow(0px 1px 2px rgba(0, 0, 0, 0.3));\n",
              "      fill: #FFFFFF;\n",
              "    }\n",
              "  </style>\n",
              "\n",
              "      <script>\n",
              "        const buttonEl =\n",
              "          document.querySelector('#df-3865e82f-7190-4139-964e-9b5114ea5629 button.colab-df-convert');\n",
              "        buttonEl.style.display =\n",
              "          google.colab.kernel.accessAllowed ? 'block' : 'none';\n",
              "\n",
              "        async function convertToInteractive(key) {\n",
              "          const element = document.querySelector('#df-3865e82f-7190-4139-964e-9b5114ea5629');\n",
              "          const dataTable =\n",
              "            await google.colab.kernel.invokeFunction('convertToInteractive',\n",
              "                                                     [key], {});\n",
              "          if (!dataTable) return;\n",
              "\n",
              "          const docLinkHtml = 'Like what you see? Visit the ' +\n",
              "            '<a target=\"_blank\" href=https://colab.research.google.com/notebooks/data_table.ipynb>data table notebook</a>'\n",
              "            + ' to learn more about interactive tables.';\n",
              "          element.innerHTML = '';\n",
              "          dataTable['output_type'] = 'display_data';\n",
              "          await google.colab.output.renderOutput(dataTable, element);\n",
              "          const docLink = document.createElement('div');\n",
              "          docLink.innerHTML = docLinkHtml;\n",
              "          element.appendChild(docLink);\n",
              "        }\n",
              "      </script>\n",
              "    </div>\n",
              "  </div>\n",
              "  "
            ]
          },
          "metadata": {},
          "execution_count": 65
        }
      ]
    }
  ]
}